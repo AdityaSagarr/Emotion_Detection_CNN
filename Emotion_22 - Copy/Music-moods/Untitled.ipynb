{
 "cells": [
  {
   "cell_type": "markdown",
   "metadata": {},
   "source": [
    "## 2.BLOG"
   ]
  },
  {
   "cell_type": "code",
   "execution_count": 6,
   "metadata": {
    "scrolled": true
   },
   "outputs": [
    {
     "name": "stdout",
     "output_type": "stream",
     "text": [
      "Enter your query: sad\n",
      "Result 1: https://www.quora.com/How-can-blogging-change-your-dull-mindset\n",
      "Result 2: https://www.quora.com/I-am-new-in-blogging-What-are-some-suggestions-for-a-blog-to-gain-more-traffic\n",
      "Result 3: https://www.quora.com/I-have-been-wanting-to-write-blog-or-somehow-get-my-thoughts-down-in-writing-How-should-I-start-writing-and-where-should-I-begin\n",
      "Result 4: https://www.quora.com/How-could-I-potentially-change-my-blog\n",
      "Result 5: https://www.quora.com/What-are-some-good-names-for-a-blog-about-travel-food-and-lifestyle\n",
      "Result 6: https://www.gimmesomeoven.com/life/blogs-im-reading-and-loving-lately/\n",
      "Result 7: https://www.hostinger.in/tutorials/blog-ideas\n",
      "Result 8: https://www.fromroses.co.uk/blog/how-ive-changed-my-attitude-towards-blogging-what-my-current-work-process-looks-like\n",
      "Result 9: https://optinmonster.com/50-blog-post-ideas-that-you-can-write-about-today/\n",
      "Result 10: https://wholesomeireland.com/slow-blogging-changed-my-life/\n"
     ]
    }
   ],
   "source": [
    "from googlesearch import search\n",
    "\n",
    "\n",
    "query1=\"i am feeling \" \n",
    "query3 = input(\"Enter your query: \")\n",
    "query2=\" suggest me some blogs\"\n",
    "\n",
    "\n",
    "final_query=query1+query2+query3\n",
    "\n",
    "for i, result in enumerate(search(final_query, tld=\"com\", num=10, stop=10, pause=2), start=1):\n",
    "    print(f\"Result {i}: {result}\")\n"
   ]
  },
  {
   "cell_type": "markdown",
   "metadata": {},
   "source": [
    "## 3.Video"
   ]
  },
  {
   "cell_type": "code",
   "execution_count": 7,
   "metadata": {
    "collapsed": true
   },
   "outputs": [
    {
     "name": "stdout",
     "output_type": "stream",
     "text": [
      "Enter your query: happy\n"
     ]
    },
    {
     "name": "stderr",
     "output_type": "stream",
     "text": [
      "Unexpected renderer encountered.\n",
      "Renderer name: dict_keys(['showingResultsForRenderer'])\n",
      "Search term: i am feeling  suggest me some videoshappy\n",
      "Please open an issue at https://github.com/pytube/pytube/issues and provide this log output.\n",
      "Unexpected renderer encountered.\n",
      "Renderer name: dict_keys(['reelShelfRenderer'])\n",
      "Search term: i am feeling  suggest me some videoshappy\n",
      "Please open an issue at https://github.com/pytube/pytube/issues and provide this log output.\n"
     ]
    },
    {
     "name": "stdout",
     "output_type": "stream",
     "text": [
      "Result 1: a video to watch when you're sad. - https://youtube.com/watch?v=hBzP8MtJf04\n",
      "Result 2: When i am feeling happy | Feeling and Emotion Management by BabyA Nursery Channel - https://youtube.com/watch?v=XX-Cpb7trrI\n",
      "Result 3: Watch this if you want to feel better - https://youtube.com/watch?v=_1OfB3DGwpA\n",
      "Result 4: Net ah Thorandha Negativity !! A Feel Good Video - Made Me Happy😊 | Tamil - https://youtube.com/watch?v=sc4c3QtbsFU\n",
      "Result 5: How to Be Happy Every Day: It Will Change the World | Jacqueline Way | TEDxStanleyPark - https://youtube.com/watch?v=78nsxRxbf4w\n",
      "Result 6: Mood Booster 🌻Best Songs You Will Feel Happy and Positive After Listening To It (Immediate Effect) - https://youtube.com/watch?v=UPkMkIOzej8\n",
      "Result 7: Feelings Song - I'm Happy | Feelings and Emotions | Dream English Kids - https://youtube.com/watch?v=g04mcPQbm9E\n",
      "Result 8: Coldplay - Hymn For The Weekend (Official Video) - https://youtube.com/watch?v=YykjpeuMNEk\n",
      "Result 9: Avicii - Feeling Good - https://youtube.com/watch?v=S565hk5T7SA\n",
      "Result 10: Matthew McConaughey - This Is Why You're Not Happy | One Of The Most Eye Opening Speeches - https://youtube.com/watch?v=p0p1fjLPjYQ\n",
      "Result 11: Happy | The Feels: A Story About You and Your Feelings | Kids Learn Emotions | UniLand Kids - https://youtube.com/watch?v=69ZhNfdaRtw\n",
      "Result 12: 10 Habits Of Happy People - How to Be Happy - https://youtube.com/watch?v=XLBKy7g3yTc\n",
      "Result 13: David Guetta & Bebe Rexha - I'm Good (Blue) [Official Music Video] - https://youtube.com/watch?v=90RLzVUuXe4\n",
      "Result 14: 12 Harsh Truths You Need To Accept To Live a Happy Life - https://youtube.com/watch?v=XJsXf3UWwng\n",
      "Result 15: 8 SCIENTIFIC TRICKS TO BECOME PERFECTLY HAPPY - https://youtube.com/watch?v=xrLw94oC6D0\n",
      "Result 16: The Simple Secret To Happiness | Ryan Estis Inspirational Video | Goalcast - https://youtube.com/watch?v=qxrNCRhxgho\n",
      "Result 17: Feeling happy whatsapp status video - https://youtube.com/watch?v=NiVthjqmTeM\n",
      "Result 18: Feeling Happy ' Stay See Summer Mix 2015 - https://youtube.com/watch?v=UPftsIwGNoQ\n",
      "Result 19: Why it's so hard to be happy - https://youtube.com/watch?v=rQoS_S9K464\n",
      "Result 20: Feeling Happy - Best Of Vocal Deep House Music Chill Out - Mix By Regard #5 - https://youtube.com/watch?v=HKU96i_Qh8Y\n"
     ]
    }
   ],
   "source": [
    "from pytube import Search\n",
    "\n",
    "query1 = \"i am feeling \" \n",
    "query3 = input(\"Enter your query: \")\n",
    "query2 = \" suggest me some videos\"\n",
    "\n",
    "final_query = query1 + query2 + query3\n",
    "\n",
    "search_results = Search(final_query)\n",
    "\n",
    "for i, result in enumerate(search_results.results, start=1):\n",
    "    print(f\"Result {i}: {result.title} - {result.watch_url}\")\n"
   ]
  },
  {
   "cell_type": "markdown",
   "metadata": {},
   "source": [
    "## 4.only-Gallery"
   ]
  },
  {
   "cell_type": "code",
   "execution_count": 3,
   "metadata": {
    "scrolled": true
   },
   "outputs": [
    {
     "ename": "SystemExit",
     "evalue": "0",
     "output_type": "error",
     "traceback": [
      "An exception has occurred, use %tb to see the full traceback.\n",
      "\u001b[1;31mSystemExit\u001b[0m\u001b[1;31m:\u001b[0m 0\n"
     ]
    }
   ],
   "source": [
    "import sys\n",
    "import os\n",
    "from PyQt5.QtWidgets import QApplication, QMainWindow, QWidget, QVBoxLayout, QLabel, QGridLayout, QScrollArea\n",
    "from PyQt5.QtGui import QPixmap\n",
    "\n",
    "\n",
    "class GalleryApp(QMainWindow):\n",
    "    def __init__(self, directory):\n",
    "        super().__init__()\n",
    "        self.setWindowTitle(\"Gallery App\")\n",
    "        self.central_widget = QWidget()\n",
    "        self.setCentralWidget(self.central_widget)\n",
    "\n",
    "        self.layout = QVBoxLayout(self.central_widget)\n",
    "        \n",
    "        # Create scroll area\n",
    "        self.scroll_area = QScrollArea()\n",
    "        self.scroll_area.setWidgetResizable(True)\n",
    "\n",
    "        self.scroll_widget = QWidget()\n",
    "        self.scroll_area.setWidget(self.scroll_widget)\n",
    "\n",
    "        self.grid_layout = QGridLayout(self.scroll_widget)\n",
    "        self.layout.addWidget(self.scroll_area)\n",
    "\n",
    "        self.directory = directory\n",
    "        self.load_images()\n",
    "\n",
    "    def load_images(self):\n",
    "        images = [file for file in os.listdir(self.directory) if file.endswith(('.jpg', '.jpeg', '.png', '.gif'))]\n",
    "        row = 0\n",
    "        col = 0\n",
    "        for image in images:\n",
    "            pixmap = QPixmap(os.path.join(self.directory, image))\n",
    "            if not pixmap.isNull():\n",
    "                label = QLabel()\n",
    "                label.setPixmap(pixmap.scaled(200, 200, aspectRatioMode=True))\n",
    "                self.grid_layout.addWidget(label, row, col)\n",
    "                col += 1\n",
    "                if col == 4:\n",
    "                    col = 0\n",
    "                    row += 1\n",
    "\n",
    "\n",
    "def main():\n",
    "    app = QApplication(sys.argv)\n",
    "    gallery = GalleryApp(directory=r'C:\\Users\\Aditya\\ONLY PROJECTS\\Emotion_22 - Copy\\Mood-images')\n",
    "    gallery.show()\n",
    "    sys.exit(app.exec_())\n",
    "\n",
    "\n",
    "if __name__ == \"__main__\":\n",
    "    main()\n"
   ]
  },
  {
   "cell_type": "markdown",
   "metadata": {},
   "source": [
    "## 5.books"
   ]
  },
  {
   "cell_type": "code",
   "execution_count": 1,
   "metadata": {},
   "outputs": [
    {
     "name": "stdout",
     "output_type": "stream",
     "text": [
      "Enter your query: sad\n",
      "Book 1: Michael Rosen's Sad Book - http://books.google.co.in/books?id=AEO7bwAACAAJ&dq=books+about+sad&hl=&source=gbs_api\n",
      "Book 2: Monday's Not Coming - https://play.google.com/store/books/details?id=ur0wDwAAQBAJ&source=gbs_api\n",
      "Book 3: Sad - http://books.google.co.in/books?id=sW6gzgEACAAJ&dq=books+about+sad&hl=&source=gbs_api\n",
      "Book 4: Remember This When You're Sad - https://play.google.com/store/books/details?id=LTdDDwAAQBAJ&source=gbs_api\n",
      "Book 5: Sad - http://books.google.co.in/books?id=bw_zADCBuw0C&dq=books+about+sad&hl=&source=gbs_api\n",
      "Book 6: I'm Sad - https://play.google.com/store/books/details?id=hGBEDwAAQBAJ&source=gbs_api\n",
      "Book 7: I'm Happy-Sad Today - https://play.google.com/store/books/details?id=WqfsDwAAQBAJ&source=gbs_api\n",
      "Book 8: Why Do I Feel So Sad? - http://books.google.co.in/books?id=A97TyQEACAAJ&dq=books+about+sad&hl=&source=gbs_api\n",
      "Book 9: The Lovely Bones - https://play.google.com/store/books/details?id=w6H8DwAAQBAJ&source=gbs_api\n",
      "Book 10: Sometimes When I'm Sad - https://play.google.com/store/books/details?id=8GoPEAAAQBAJ&source=gbs_api\n"
     ]
    }
   ],
   "source": [
    "from googlesearch import search\n",
    "import requests\n",
    "import random\n",
    "\n",
    "def get_books(query):\n",
    "    url = f\"https://www.googleapis.com/books/v1/volumes?q={query}\"\n",
    "    response = requests.get(url)\n",
    "    data = response.json()\n",
    "    if \"items\" in data:\n",
    "        return data[\"items\"]\n",
    "    else:\n",
    "        return []\n",
    "\n",
    "query1 = \"books about \" \n",
    "query3 = input(\"Enter your query: \")\n",
    "\n",
    "final_query = query1 + query3\n",
    "\n",
    "book_results = get_books(final_query)\n",
    "\n",
    "if book_results:\n",
    "    random_books = random.sample(book_results, min(10, len(book_results)))\n",
    "    for i, book in enumerate(random_books, start=1):\n",
    "        title = book[\"volumeInfo\"][\"title\"]\n",
    "        link = book[\"volumeInfo\"][\"infoLink\"]\n",
    "        print(f\"Book {i}: {title} - {link}\")\n",
    "else:\n",
    "    print(\"No books found.\")\n"
   ]
  },
  {
   "cell_type": "markdown",
   "metadata": {},
   "source": [
    "## on click gallery"
   ]
  },
  {
   "cell_type": "code",
   "execution_count": 1,
   "metadata": {
    "scrolled": false
   },
   "outputs": [
    {
     "ename": "SystemExit",
     "evalue": "0",
     "output_type": "error",
     "traceback": [
      "An exception has occurred, use %tb to see the full traceback.\n",
      "\u001b[1;31mSystemExit\u001b[0m\u001b[1;31m:\u001b[0m 0\n"
     ]
    },
    {
     "name": "stderr",
     "output_type": "stream",
     "text": [
      "C:\\Users\\Aditya\\anaconda3\\lib\\site-packages\\IPython\\core\\interactiveshell.py:3426: UserWarning: To exit: use 'exit', 'quit', or Ctrl-D.\n",
      "  warn(\"To exit: use 'exit', 'quit', or Ctrl-D.\", stacklevel=1)\n"
     ]
    }
   ],
   "source": [
    "import sys\n",
    "from PyQt5.QtWidgets import QApplication, QWidget, QVBoxLayout, QLineEdit, QPushButton, QMessageBox\n",
    "from googlesearch import search\n",
    "\n",
    "class MyApp(QWidget):\n",
    "    def __init__(self):\n",
    "        super().__init__()\n",
    "        self.initUI()\n",
    "\n",
    "    def initUI(self):\n",
    "        layout = QVBoxLayout()\n",
    "\n",
    "        self.input_box = QLineEdit()\n",
    "        layout.addWidget(self.input_box)\n",
    "\n",
    "        self.search_button = QPushButton('Search')\n",
    "        self.search_button.clicked.connect(self.search)\n",
    "        layout.addWidget(self.search_button)\n",
    "\n",
    "        self.setLayout(layout)\n",
    "        self.setWindowTitle('Blog Search App')\n",
    "\n",
    "    def search(self):\n",
    "        query1 = \"i am feeling \"\n",
    "        query2 = \" suggest me some blogs\"\n",
    "        query3 = self.input_box.text()\n",
    "\n",
    "        final_query = query1 + query2 + query3\n",
    "\n",
    "        results = list(search(final_query, tld=\"com\", num=10, stop=10, pause=2))\n",
    "\n",
    "        if results:\n",
    "            msg = QMessageBox()\n",
    "            msg.setWindowTitle(\"Search Results\")\n",
    "            html_content = \"\"\n",
    "            for i, url in enumerate(results, start=1):\n",
    "                html_content += f'<p>{i}. <a href=\"{url}\">{url}</a></p>'\n",
    "            msg.setText(html_content)\n",
    "            msg.exec_()\n",
    "        else:\n",
    "            QMessageBox.information(self, 'Information', 'No results found.')\n",
    "\n",
    "if __name__ == '__main__':\n",
    "    app = QApplication(sys.argv)\n",
    "    window = MyApp()\n",
    "    window.show()\n",
    "    sys.exit(app.exec_())\n"
   ]
  },
  {
   "cell_type": "markdown",
   "metadata": {},
   "source": [
    "## OUTPUT APP VERSIONS"
   ]
  },
  {
   "cell_type": "markdown",
   "metadata": {},
   "source": [
    "## 1.V1"
   ]
  },
  {
   "cell_type": "code",
   "execution_count": null,
   "metadata": {},
   "outputs": [],
   "source": [
    "from googlesearch import search\n",
    "from pytube import Search\n",
    "import requests\n",
    "import random\n",
    "\n",
    "def get_books(query):\n",
    "    url = f\"https://www.googleapis.com/books/v1/volumes?q={query}\"\n",
    "    response = requests.get(url)\n",
    "    data = response.json()\n",
    "    if \"items\" in data:\n",
    "        return data[\"items\"]\n",
    "    else:\n",
    "        return []\n",
    "\n",
    "# Input query from user\n",
    "query = input(\"Enter your query: \")\n",
    "\n",
    "# Google search for blogs\n",
    "google_query = \"i am feeling suggest me some blogs \" + query\n",
    "print(\"Blogs:\")\n",
    "for i, result in enumerate(search(google_query, tld=\"com\", num=5, stop=5, pause=2), start=1):\n",
    "    print(f\"Blog {i}: {result}\")\n",
    "\n",
    "# YouTube video search\n",
    "youtube_query = \"i am feeling suggest me some videos \" + query\n",
    "print(\"\\nVideos:\")\n",
    "search_results = Search(youtube_query)\n",
    "for i, result in enumerate(search_results.results[:5], start=1):\n",
    "    print(f\"Video {i}: {result.title} - {result.watch_url}\")\n",
    "\n",
    "# Books search\n",
    "books_query = \"books about \" + query\n",
    "print(\"\\nBooks:\")\n",
    "book_results = get_books(books_query)\n",
    "if book_results:\n",
    "    random_books = random.sample(book_results, min(5, len(book_results)))\n",
    "    for i, book in enumerate(random_books, start=1):\n",
    "        title = book[\"volumeInfo\"][\"title\"]\n",
    "        link = book[\"volumeInfo\"][\"infoLink\"]\n",
    "        print(f\"Book {i}: {title} - {link}\")\n",
    "else:\n",
    "    print(\"No books found.\")\n"
   ]
  },
  {
   "cell_type": "markdown",
   "metadata": {},
   "source": [
    "## 2.V2"
   ]
  },
  {
   "cell_type": "code",
   "execution_count": 1,
   "metadata": {
    "scrolled": true
   },
   "outputs": [
    {
     "name": "stderr",
     "output_type": "stream",
     "text": [
      "Unexpected renderer encountered.\n",
      "Renderer name: dict_keys(['reelShelfRenderer'])\n",
      "Search term: i am feeling suggest me some videos HAPPY\n",
      "Please open an issue at https://github.com/pytube/pytube/issues and provide this log output.\n"
     ]
    },
    {
     "ename": "SystemExit",
     "evalue": "0",
     "output_type": "error",
     "traceback": [
      "An exception has occurred, use %tb to see the full traceback.\n",
      "\u001b[1;31mSystemExit\u001b[0m\u001b[1;31m:\u001b[0m 0\n"
     ]
    },
    {
     "name": "stderr",
     "output_type": "stream",
     "text": [
      "C:\\Users\\Aditya\\anaconda3\\lib\\site-packages\\IPython\\core\\interactiveshell.py:3426: UserWarning: To exit: use 'exit', 'quit', or Ctrl-D.\n",
      "  warn(\"To exit: use 'exit', 'quit', or Ctrl-D.\", stacklevel=1)\n"
     ]
    }
   ],
   "source": [
    "import sys\n",
    "from PyQt5.QtWidgets import QApplication, QWidget, QVBoxLayout, QHBoxLayout, QLineEdit, QPushButton, QListWidget\n",
    "from googlesearch import search\n",
    "from pytube import Search\n",
    "import requests\n",
    "import random\n",
    "\n",
    "class SearchApp(QWidget):\n",
    "    def __init__(self):\n",
    "        super().__init__()\n",
    "        self.setWindowTitle(\"Search App\")\n",
    "        self.setup_ui()\n",
    "\n",
    "    def setup_ui(self):\n",
    "        layout = QVBoxLayout()\n",
    "\n",
    "        # Query input field\n",
    "        self.query_input = QLineEdit()\n",
    "        layout.addWidget(self.query_input)\n",
    "\n",
    "        # Buttons for search\n",
    "        search_buttons_layout = QHBoxLayout()\n",
    "        self.blog_button = QPushButton(\"Search Blogs\")\n",
    "        self.blog_button.clicked.connect(self.search_blogs)\n",
    "        search_buttons_layout.addWidget(self.blog_button)\n",
    "\n",
    "        self.video_button = QPushButton(\"Search Videos\")\n",
    "        self.video_button.clicked.connect(self.search_videos)\n",
    "        search_buttons_layout.addWidget(self.video_button)\n",
    "\n",
    "        self.book_button = QPushButton(\"Search Books\")\n",
    "        self.book_button.clicked.connect(self.search_books)\n",
    "        search_buttons_layout.addWidget(self.book_button)\n",
    "\n",
    "        layout.addLayout(search_buttons_layout)\n",
    "\n",
    "        # List widgets to display search results\n",
    "        self.blog_list = QListWidget()\n",
    "        layout.addWidget(self.blog_list)\n",
    "\n",
    "        self.video_list = QListWidget()\n",
    "        layout.addWidget(self.video_list)\n",
    "\n",
    "        self.book_list = QListWidget()\n",
    "        layout.addWidget(self.book_list)\n",
    "\n",
    "        self.setLayout(layout)\n",
    "\n",
    "    def search_blogs(self):\n",
    "        self.blog_list.clear()\n",
    "        query = self.query_input.text()\n",
    "        google_query = \"i am feeling suggest me some blogs \" + query\n",
    "        for i, result in enumerate(search(google_query, tld=\"com\", num=5, stop=5, pause=2), start=1):\n",
    "            self.blog_list.addItem(f\"Blog {i}: {result}\")\n",
    "\n",
    "    def search_videos(self):\n",
    "        self.video_list.clear()\n",
    "        query = self.query_input.text()\n",
    "        youtube_query = \"i am feeling suggest me some videos \" + query\n",
    "        search_results = Search(youtube_query)\n",
    "        for i, result in enumerate(search_results.results[:5], start=1):\n",
    "            self.video_list.addItem(f\"Video {i}: {result.title} - {result.watch_url}\")\n",
    "\n",
    "    def search_books(self):\n",
    "        self.book_list.clear()\n",
    "        query = self.query_input.text()\n",
    "        books_query = \"books about \" + query\n",
    "        book_results = self.get_books(books_query)\n",
    "        if book_results:\n",
    "            random_books = random.sample(book_results, min(5, len(book_results)))\n",
    "            for i, book in enumerate(random_books, start=1):\n",
    "                title = book[\"volumeInfo\"][\"title\"]\n",
    "                link = book[\"volumeInfo\"][\"infoLink\"]\n",
    "                self.book_list.addItem(f\"Book {i}: {title} - {link}\")\n",
    "        else:\n",
    "            self.book_list.addItem(\"No books found.\")\n",
    "\n",
    "    def get_books(self, query):\n",
    "        url = f\"https://www.googleapis.com/books/v1/volumes?q={query}\"\n",
    "        response = requests.get(url)\n",
    "        data = response.json()\n",
    "        if \"items\" in data:\n",
    "            return data[\"items\"]\n",
    "        else:\n",
    "            return []\n",
    "\n",
    "if __name__ == \"__main__\":\n",
    "    app = QApplication(sys.argv)\n",
    "    search_app = SearchApp()\n",
    "    search_app.show()\n",
    "    sys.exit(app.exec_())\n"
   ]
  },
  {
   "cell_type": "markdown",
   "metadata": {},
   "source": [
    "## 3.v3"
   ]
  },
  {
   "cell_type": "code",
   "execution_count": 3,
   "metadata": {},
   "outputs": [
    {
     "ename": "ModuleNotFoundError",
     "evalue": "No module named 'suggestions'",
     "output_type": "error",
     "traceback": [
      "\u001b[1;31m---------------------------------------------------------------------------\u001b[0m",
      "\u001b[1;31mModuleNotFoundError\u001b[0m                       Traceback (most recent call last)",
      "\u001b[1;32m<ipython-input-3-a2f3ce2cb265>\u001b[0m in \u001b[0;36m<module>\u001b[1;34m\u001b[0m\n\u001b[0;32m      1\u001b[0m \u001b[1;32mimport\u001b[0m \u001b[0msys\u001b[0m\u001b[1;33m\u001b[0m\u001b[1;33m\u001b[0m\u001b[0m\n\u001b[0;32m      2\u001b[0m \u001b[1;32mfrom\u001b[0m \u001b[0mPyQt5\u001b[0m\u001b[1;33m.\u001b[0m\u001b[0mQtWidgets\u001b[0m \u001b[1;32mimport\u001b[0m \u001b[0mQApplication\u001b[0m\u001b[1;33m,\u001b[0m \u001b[0mQMainWindow\u001b[0m\u001b[1;33m,\u001b[0m \u001b[0mQPushButton\u001b[0m\u001b[1;33m\u001b[0m\u001b[1;33m\u001b[0m\u001b[0m\n\u001b[1;32m----> 3\u001b[1;33m \u001b[1;32mfrom\u001b[0m \u001b[0msuggestions\u001b[0m \u001b[1;32mimport\u001b[0m \u001b[0mSuggestionsApp\u001b[0m\u001b[1;33m\u001b[0m\u001b[1;33m\u001b[0m\u001b[0m\n\u001b[0m\u001b[0;32m      4\u001b[0m \u001b[1;33m\u001b[0m\u001b[0m\n\u001b[0;32m      5\u001b[0m \u001b[1;32mclass\u001b[0m \u001b[0mMainWindow\u001b[0m\u001b[1;33m(\u001b[0m\u001b[0mQMainWindow\u001b[0m\u001b[1;33m)\u001b[0m\u001b[1;33m:\u001b[0m\u001b[1;33m\u001b[0m\u001b[1;33m\u001b[0m\u001b[0m\n",
      "\u001b[1;31mModuleNotFoundError\u001b[0m: No module named 'suggestions'"
     ]
    }
   ],
   "source": [
    "import sys\n",
    "from PyQt5.QtWidgets import QApplication, QMainWindow, QPushButton\n",
    "from suggestions import SuggestionsApp\n",
    "\n",
    "class MainWindow(QMainWindow):\n",
    "    def __init__(self):\n",
    "        super().__init__()\n",
    "        self.setWindowTitle(\"Main Window\")\n",
    "        self.setGeometry(100, 100, 400, 200)\n",
    "\n",
    "        self.open_suggestions_button = QPushButton(\"Open Suggestions\", self)\n",
    "        self.open_suggestions_button.setGeometry(100, 50, 200, 50)\n",
    "        self.open_suggestions_button.clicked.connect(self.open_suggestions)\n",
    "\n",
    "    def open_suggestions(self):\n",
    "        self.suggestions_window = SuggestionsApp(self)\n",
    "        self.suggestions_window.show()\n",
    "\n",
    "if __name__ == '__main__':\n",
    "    app = QApplication(sys.argv)\n",
    "    window = MainWindow()\n",
    "    window.show()\n",
    "    sys.exit(app.exec_())\n"
   ]
  },
  {
   "cell_type": "code",
   "execution_count": null,
   "metadata": {},
   "outputs": [],
   "source": []
  }
 ],
 "metadata": {
  "kernelspec": {
   "display_name": "Python 3",
   "language": "python",
   "name": "python3"
  },
  "language_info": {
   "codemirror_mode": {
    "name": "ipython",
    "version": 3
   },
   "file_extension": ".py",
   "mimetype": "text/x-python",
   "name": "python",
   "nbconvert_exporter": "python",
   "pygments_lexer": "ipython3",
   "version": "3.8.5"
  }
 },
 "nbformat": 4,
 "nbformat_minor": 4
}
